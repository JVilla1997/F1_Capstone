{
 "cells": [
  {
   "cell_type": "code",
   "id": "initial_id",
   "metadata": {
    "ExecuteTime": {
     "end_time": "2025-04-08T02:00:36.124860Z",
     "start_time": "2025-04-08T02:00:36.080171Z"
    }
   },
   "source": [
    "# Imports necessary libraries for analysis and visualization\n",
    "import matplotlib\n",
    "import pandas as pd\n",
    "import numpy as np\n",
    "import matplotlib.pyplot as plt\n",
    "import seaborn as sns\n",
    "import sys\n",
    "# Prints out library versions\n",
    "print(\"Libraries installed successfully!\")\n",
    "print(\"Interpreter:\", sys.executable)\n",
    "print(\"NumPy version:\", np.__version__)\n",
    "print(\"Matplotlib version:\", matplotlib.__version__)\n",
    "print(\"Pandas version:\", pd.__version__)\n",
    "print(\"Seaborn version:\", sns.__version__)"
   ],
   "outputs": [
    {
     "name": "stdout",
     "output_type": "stream",
     "text": [
      "Libraries installed successfully!\n",
      "Interpreter: /Users/sage/PycharmProjects/CapstoneFormulaOne2025/venv/bin/python\n",
      "NumPy version: 2.2.4\n",
      "Matplotlib version: 3.10.1\n",
      "Pandas version: 2.2.3\n",
      "Seaborn version: 0.13.2\n"
     ]
    }
   ],
   "execution_count": 9
  },
  {
   "cell_type": "code",
   "id": "ea101d2671df6490",
   "metadata": {
    "ExecuteTime": {
     "end_time": "2025-04-15T00:15:32.607622Z",
     "start_time": "2025-04-15T00:15:31.127196Z"
    }
   },
   "source": [
    "import kaggle\n",
    "import os\n",
    "import zipfile\n",
    "\n",
    "# Authenticate with Kaggle API\n",
    "from kaggle.api.kaggle_api_extended import KaggleApi\n",
    "api = KaggleApi()\n",
    "api.authenticate()\n",
    "\n",
    "# Define dataset and download path\n",
    "dataset = 'jtrotman/formula-1-race-data'  # Format: owner/dataset-name\n",
    "download_path = 'data'  # Folder in F1_Capstone/\n",
    "\n",
    "# Create data directory if it doesn’t exist\n",
    "if not os.path.exists(download_path):\n",
    "    os.makedirs(download_path)\n",
    "\n",
    "# Download the entire dataset as a ZIP\n",
    "api.dataset_download_files(dataset, path=download_path, unzip=False)\n",
    "\n",
    "# Find the downloaded ZIP file (name may vary, e.g., 'formula-1-race-data.zip')\n",
    "zip_file = os.path.join(download_path, 'formula-1-race-data.zip')  # Adjust if name differs\n",
    "\n",
    "# Extract all CSVs from the ZIP\n",
    "with zipfile.ZipFile(zip_file, 'r') as zip_ref:\n",
    "    zip_ref.extractall(download_path)\n",
    "    print(\"Extracted files:\", zip_ref.namelist())\n",
    "\n",
    "# Clean up the ZIP file (optional)\n",
    "os.remove(zip_file)\n",
    "\n",
    "# List extracted files to confirm\n",
    "print(\"Files in data directory:\", os.listdir(download_path))"
   ],
   "outputs": [
    {
     "name": "stdout",
     "output_type": "stream",
     "text": [
      "Dataset URL: https://www.kaggle.com/datasets/jtrotman/formula-1-race-data\n",
      "Extracted files: ['circuits.csv', 'constructor_results.csv', 'constructor_standings.csv', 'constructors.csv', 'driver_standings.csv', 'drivers.csv', 'lap_times.csv', 'pit_stops.csv', 'qualifying.csv', 'races.csv', 'results.csv', 'seasons.csv', 'sprint_results.csv', 'status.csv']\n",
      "Files in data directory: ['circuits.csv', 'status.csv', 'lap_times.csv', 'sprint_results.csv', 'drivers.csv', 'races.csv', 'constructors.csv', 'constructor_standings.csv', 'qualifying.csv', 'driver_standings.csv', 'constructor_results.csv', 'pit_stops.csv', 'seasons.csv', 'results.csv']\n"
     ]
    }
   ],
   "execution_count": 28
  },
  {
   "metadata": {
    "ExecuteTime": {
     "end_time": "2025-04-08T02:16:34.852774Z",
     "start_time": "2025-04-08T02:16:34.810019Z"
    }
   },
   "cell_type": "code",
   "source": [
    "# Load one CSV as a test\n",
    "drivers_df = pd.read_csv('data/drivers.csv')\n",
    "print(\"Drivers data loaded successfully!\")\n",
    "print(drivers_df.head(20))\n",
    "\n"
   ],
   "id": "a0d319f31b8e72c4",
   "outputs": [
    {
     "name": "stdout",
     "output_type": "stream",
     "text": [
      "Drivers data loaded successfully!\n",
      "    driverId   driverRef number code   forename     surname         dob  \\\n",
      "0          1    hamilton     44  HAM      Lewis    Hamilton  1985-01-07   \n",
      "1          2    heidfeld     \\N  HEI       Nick    Heidfeld  1977-05-10   \n",
      "2          3     rosberg      6  ROS       Nico     Rosberg  1985-06-27   \n",
      "3          4      alonso     14  ALO   Fernando      Alonso  1981-07-29   \n",
      "4          5  kovalainen     \\N  KOV     Heikki  Kovalainen  1981-10-19   \n",
      "5          6    nakajima     \\N  NAK     Kazuki    Nakajima  1985-01-11   \n",
      "6          7    bourdais     \\N  BOU  Sébastien    Bourdais  1979-02-28   \n",
      "7          8   raikkonen      7  RAI       Kimi   Räikkönen  1979-10-17   \n",
      "8          9      kubica     88  KUB     Robert      Kubica  1984-12-07   \n",
      "9         10       glock     \\N  GLO       Timo       Glock  1982-03-18   \n",
      "10        11        sato     \\N  SAT     Takuma        Sato  1977-01-28   \n",
      "11        12   piquet_jr     \\N  PIQ     Nelson  Piquet Jr.  1985-07-25   \n",
      "12        13       massa     19  MAS     Felipe       Massa  1981-04-25   \n",
      "13        14   coulthard     \\N  COU      David   Coulthard  1971-03-27   \n",
      "14        15      trulli     \\N  TRU      Jarno      Trulli  1974-07-13   \n",
      "15        16       sutil     99  SUT     Adrian       Sutil  1983-01-11   \n",
      "16        17      webber     \\N  WEB       Mark      Webber  1976-08-27   \n",
      "17        18      button     22  BUT     Jenson      Button  1980-01-19   \n",
      "18        19    davidson     \\N  DAV    Anthony    Davidson  1979-04-18   \n",
      "19        20      vettel      5  VET  Sebastian      Vettel  1987-07-03   \n",
      "\n",
      "   nationality                                                url  \n",
      "0      British        http://en.wikipedia.org/wiki/Lewis_Hamilton  \n",
      "1       German         http://en.wikipedia.org/wiki/Nick_Heidfeld  \n",
      "2       German          http://en.wikipedia.org/wiki/Nico_Rosberg  \n",
      "3      Spanish       http://en.wikipedia.org/wiki/Fernando_Alonso  \n",
      "4      Finnish     http://en.wikipedia.org/wiki/Heikki_Kovalainen  \n",
      "5     Japanese       http://en.wikipedia.org/wiki/Kazuki_Nakajima  \n",
      "6       French  http://en.wikipedia.org/wiki/S%C3%A9bastien_Bo...  \n",
      "7      Finnish  http://en.wikipedia.org/wiki/Kimi_R%C3%A4ikk%C...  \n",
      "8       Polish         http://en.wikipedia.org/wiki/Robert_Kubica  \n",
      "9       German            http://en.wikipedia.org/wiki/Timo_Glock  \n",
      "10    Japanese           http://en.wikipedia.org/wiki/Takuma_Sato  \n",
      "11   Brazilian    http://en.wikipedia.org/wiki/Nelson_Piquet,_Jr.  \n",
      "12   Brazilian          http://en.wikipedia.org/wiki/Felipe_Massa  \n",
      "13     British       http://en.wikipedia.org/wiki/David_Coulthard  \n",
      "14     Italian          http://en.wikipedia.org/wiki/Jarno_Trulli  \n",
      "15      German          http://en.wikipedia.org/wiki/Adrian_Sutil  \n",
      "16  Australian  http://en.wikipedia.org/wiki/Mark_Webber_(raci...  \n",
      "17     British         http://en.wikipedia.org/wiki/Jenson_Button  \n",
      "18     British      http://en.wikipedia.org/wiki/Anthony_Davidson  \n",
      "19      German      http://en.wikipedia.org/wiki/Sebastian_Vettel  \n"
     ]
    }
   ],
   "execution_count": 11
  },
  {
   "metadata": {
    "ExecuteTime": {
     "end_time": "2025-04-08T02:19:44.311201Z",
     "start_time": "2025-04-08T02:19:44.276098Z"
    }
   },
   "cell_type": "code",
   "source": [
    "# Loads Constructor Standings\n",
    "constructors_standings_df = pd.read_csv('data/constructor_standings.csv')\n",
    "print(\"Constructor Standings data loaded successfully!\")\n",
    "print(constructors_standings_df.head())"
   ],
   "id": "c1a6a355c7aa6b88",
   "outputs": [
    {
     "name": "stdout",
     "output_type": "stream",
     "text": [
      "Constructor Standings data loaded successfully!\n",
      "   constructorStandingsId  raceId  constructorId  points  position  \\\n",
      "0                       1      18              1    14.0         1   \n",
      "1                       2      18              2     8.0         3   \n",
      "2                       3      18              3     9.0         2   \n",
      "3                       4      18              4     5.0         4   \n",
      "4                       5      18              5     2.0         5   \n",
      "\n",
      "  positionText  wins  \n",
      "0            1     1  \n",
      "1            3     0  \n",
      "2            2     0  \n",
      "3            4     0  \n",
      "4            5     0  \n"
     ]
    }
   ],
   "execution_count": 13
  },
  {
   "metadata": {
    "ExecuteTime": {
     "end_time": "2025-04-08T02:23:50.065860Z",
     "start_time": "2025-04-08T02:23:50.036144Z"
    }
   },
   "cell_type": "code",
   "source": [
    "constructor_results_df = pd.read_csv('data/constructor_results.csv')\n",
    "print(\"Constructor Results data loaded successfully!\")\n",
    "print(constructor_results_df.head())"
   ],
   "id": "8ae5fbca3f9c3aa4",
   "outputs": [
    {
     "name": "stdout",
     "output_type": "stream",
     "text": [
      "Constructor Results data loaded successfully!\n",
      "   constructorResultsId  raceId  constructorId  points status\n",
      "0                     1      18              1    14.0     \\N\n",
      "1                     2      18              2     8.0     \\N\n",
      "2                     3      18              3     9.0     \\N\n",
      "3                     4      18              4     5.0     \\N\n",
      "4                     5      18              5     2.0     \\N\n"
     ]
    }
   ],
   "execution_count": 14
  },
  {
   "metadata": {
    "ExecuteTime": {
     "end_time": "2025-04-08T02:44:35.028314Z",
     "start_time": "2025-04-08T02:44:35.008816Z"
    }
   },
   "cell_type": "code",
   "source": [
    "constructors_df = pd.read_csv('data/constructors.csv')\n",
    "print(\"Constructors data loaded successfully!\")\n",
    "print(constructors_df.head(20))"
   ],
   "id": "19b9c3ffbaf46d27",
   "outputs": [
    {
     "name": "stdout",
     "output_type": "stream",
     "text": [
      "Constructors data loaded successfully!\n",
      "    constructorId constructorRef         name nationality  \\\n",
      "0               1        mclaren      McLaren     British   \n",
      "1               2     bmw_sauber   BMW Sauber      German   \n",
      "2               3       williams     Williams     British   \n",
      "3               4        renault      Renault      French   \n",
      "4               5     toro_rosso   Toro Rosso     Italian   \n",
      "5               6        ferrari      Ferrari     Italian   \n",
      "6               7         toyota       Toyota    Japanese   \n",
      "7               8    super_aguri  Super Aguri    Japanese   \n",
      "8               9       red_bull     Red Bull    Austrian   \n",
      "9              10    force_india  Force India      Indian   \n",
      "10             11          honda        Honda    Japanese   \n",
      "11             12         spyker       Spyker       Dutch   \n",
      "12             13            mf1          MF1     Russian   \n",
      "13             14     spyker_mf1   Spyker MF1       Dutch   \n",
      "14             15         sauber       Sauber       Swiss   \n",
      "15             16            bar          BAR     British   \n",
      "16             17         jordan       Jordan       Irish   \n",
      "17             18        minardi      Minardi     Italian   \n",
      "18             19         jaguar       Jaguar     British   \n",
      "19             20          prost        Prost      French   \n",
      "\n",
      "                                                  url  \n",
      "0                http://en.wikipedia.org/wiki/McLaren  \n",
      "1             http://en.wikipedia.org/wiki/BMW_Sauber  \n",
      "2   http://en.wikipedia.org/wiki/Williams_Grand_Pr...  \n",
      "3   http://en.wikipedia.org/wiki/Renault_in_Formul...  \n",
      "4    http://en.wikipedia.org/wiki/Scuderia_Toro_Rosso  \n",
      "5       http://en.wikipedia.org/wiki/Scuderia_Ferrari  \n",
      "6          http://en.wikipedia.org/wiki/Toyota_Racing  \n",
      "7         http://en.wikipedia.org/wiki/Super_Aguri_F1  \n",
      "8        http://en.wikipedia.org/wiki/Red_Bull_Racing  \n",
      "9   http://en.wikipedia.org/wiki/Racing_Point_Forc...  \n",
      "10       http://en.wikipedia.org/wiki/Honda_Racing_F1  \n",
      "11             http://en.wikipedia.org/wiki/Spyker_F1  \n",
      "12     http://en.wikipedia.org/wiki/Midland_F1_Racing  \n",
      "13     http://en.wikipedia.org/wiki/Midland_F1_Racing  \n",
      "14     http://en.wikipedia.org/wiki/Sauber_Motorsport  \n",
      "15  http://en.wikipedia.org/wiki/British_American_...  \n",
      "16     http://en.wikipedia.org/wiki/Jordan_Grand_Prix  \n",
      "17               http://en.wikipedia.org/wiki/Minardi  \n",
      "18         http://en.wikipedia.org/wiki/Jaguar_Racing  \n",
      "19      http://en.wikipedia.org/wiki/Prost_Grand_Prix  \n"
     ]
    }
   ],
   "execution_count": 16
  },
  {
   "metadata": {
    "ExecuteTime": {
     "end_time": "2025-04-09T01:39:31.922610Z",
     "start_time": "2025-04-09T01:39:31.755891Z"
    }
   },
   "cell_type": "code",
   "source": [
    "# Extracts critical csv. from f1db into a new directory f1db_data\n",
    "import zipfile\n",
    "import os\n",
    "\n",
    "zip_path = 'f1db_data/f1db-csv.zip'  # Path where you uploaded it\n",
    "extract_dir = 'f1db_data'  # New separate folder\n",
    "os.makedirs(extract_dir, exist_ok=True)\n",
    "\n",
    "with zipfile.ZipFile(zip_path, 'r') as zip_ref:\n",
    "    zip_ref.extractall(extract_dir)\n",
    "    print(\"Extracted files:\", zip_ref.namelist())\n",
    "\n",
    "# Optional: Remove ZIP\n",
    "os.remove(zip_path)"
   ],
   "id": "ca8dfbb3bdff5ebb",
   "outputs": [
    {
     "name": "stdout",
     "output_type": "stream",
     "text": [
      "Extracted files: ['f1db-races-qualifying-2-results.csv', 'f1db-drivers.csv', 'f1db-races-qualifying-results.csv', 'f1db-seasons-entrants-engines.csv', 'f1db-seasons-entrants-constructors.csv', 'f1db-countries.csv', 'f1db-races-sprint-race-results.csv', 'f1db-races-free-practice-4-results.csv', 'f1db-seasons-entrants-tyre-manufacturers.csv', 'f1db-engines.csv', 'f1db-engine-manufacturers.csv', 'f1db-seasons-tyre-manufacturers.csv', 'f1db-races-fastest-laps.csv', 'f1db-races.csv', 'f1db-races-pit-stops.csv', 'f1db-seasons-entrants-drivers.csv', 'f1db-seasons-engine-manufacturers.csv', 'f1db-seasons-driver-standings.csv', 'f1db-entrants.csv', 'f1db-chassis.csv', 'f1db-seasons.csv', 'f1db-seasons-constructor-standings.csv', 'f1db-continents.csv', 'f1db-races-free-practice-3-results.csv', 'f1db-races-free-practice-1-results.csv', 'f1db-races-race-results.csv', 'f1db-races-constructor-standings.csv', 'f1db-constructors-chronology.csv', 'f1db-races-sprint-qualifying-results.csv', 'f1db-seasons-entrants.csv', 'f1db-races-sprint-starting-grid-positions.csv', 'f1db-constructors.csv', 'f1db-seasons-drivers.csv', 'f1db-circuits.csv', 'f1db-races-warming-up-results.csv', 'f1db-races-starting-grid-positions.csv', 'f1db-tyre-manufacturers.csv', 'f1db-grands-prix.csv', 'f1db-races-free-practice-2-results.csv', 'f1db-races-driver-standings.csv', 'f1db-seasons-entrants-chassis.csv', 'f1db-races-pre-qualifying-results.csv', 'f1db-races-qualifying-1-results.csv', 'f1db-drivers-family-relationships.csv', 'f1db-seasons-constructors.csv', 'f1db-races-driver-of-the-day-results.csv']\n"
     ]
    }
   ],
   "execution_count": 26
  },
  {
   "metadata": {
    "ExecuteTime": {
     "end_time": "2025-04-09T01:42:07.241260Z",
     "start_time": "2025-04-09T01:42:07.130404Z"
    }
   },
   "cell_type": "code",
   "source": [
    "f1db_constructor_standings_df = pd.read_csv('f1db_data/f1db-constructors.csv')\n",
    "print(\"Constructors data loaded successfully!\")\n",
    "print(f1db_constructor_standings_df.head(20))"
   ],
   "id": "2d5d68a5e9563f7e",
   "outputs": [
    {
     "name": "stdout",
     "output_type": "stream",
     "text": [
      "Constructors data loaded successfully!\n",
      "                   id               name  \\\n",
      "0               adams              Adams   \n",
      "1                 afm                AFM   \n",
      "2                 ags                AGS   \n",
      "3          alfa-romeo         Alfa Romeo   \n",
      "4        alfa-special       Alfa Special   \n",
      "5          alphatauri         AlphaTauri   \n",
      "6              alpine             Alpine   \n",
      "7                alta               Alta   \n",
      "8                amon               Amon   \n",
      "9         andrea-moda        Andrea Moda   \n",
      "10            apollon            Apollon   \n",
      "11             arrows             Arrows   \n",
      "12     arzani-volpini     Arzani-Volpini   \n",
      "13  aston-butterworth  Aston Butterworth   \n",
      "14       aston-martin       Aston Martin   \n",
      "15         ats-wheels                ATS   \n",
      "16                ats                ATS   \n",
      "17              balsa              Balsa   \n",
      "18                bar                BAR   \n",
      "19      behra-porsche      Behra-Porsche   \n",
      "\n",
      "                                fullName                 countryId  \\\n",
      "0                                  Adams  united-states-of-america   \n",
      "1       Alex von Falkenhausen Motorenbau                   germany   \n",
      "2   Automobiles Gonfaronnaises Sportives                    france   \n",
      "3                      Alfa Romeo Racing                     italy   \n",
      "4                           Alfa Special              south-africa   \n",
      "5                    Scuderia AlphaTauri                     italy   \n",
      "6                         Alpine F1 Team                    france   \n",
      "7       Alta Car and Engineering Company            united-kingdom   \n",
      "8                      Chris Amon Racing               new-zealand   \n",
      "9                    Andrea Moda Formula                     italy   \n",
      "10                               Apollon               switzerland   \n",
      "11       Arrows Grand Prix International            united-kingdom   \n",
      "12               Scuderia Arzani-Volpini                     italy   \n",
      "13                     Aston Butterworth            united-kingdom   \n",
      "14                          Aston Martin            united-kingdom   \n",
      "15                            ATS Wheels                   germany   \n",
      "16            Automobili Turismo e Sport                     italy   \n",
      "17                                 Balsa                   germany   \n",
      "18               British American Racing            united-kingdom   \n",
      "19                         Behra-Porsche                   germany   \n",
      "\n",
      "    bestChampionshipPosition  bestStartingGridPosition  bestRaceResult  \\\n",
      "0                        NaN                      17.0            27.0   \n",
      "1                        NaN                       9.0             9.0   \n",
      "2                       11.0                      10.0             6.0   \n",
      "3                        6.0                       1.0             1.0   \n",
      "4                        NaN                      16.0            10.0   \n",
      "5                        6.0                       2.0             1.0   \n",
      "6                        4.0                       2.0             1.0   \n",
      "7                        NaN                      12.0             9.0   \n",
      "8                        NaN                      20.0             NaN   \n",
      "9                        NaN                      26.0             NaN   \n",
      "10                       NaN                       NaN             NaN   \n",
      "11                       5.0                       1.0             2.0   \n",
      "12                       NaN                       NaN             NaN   \n",
      "13                       NaN                      15.0             NaN   \n",
      "14                       5.0                       2.0             2.0   \n",
      "15                      11.0                       4.0             5.0   \n",
      "16                       NaN                      13.0            11.0   \n",
      "17                       NaN                      25.0             NaN   \n",
      "18                       2.0                       1.0             2.0   \n",
      "19                       NaN                      14.0            10.0   \n",
      "\n",
      "    totalChampionshipWins  totalRaceEntries  totalRaceStarts  totalRaceWins  \\\n",
      "0                       0                 1                1              0   \n",
      "1                       0                 4                4              0   \n",
      "2                       0                80               48              0   \n",
      "3                       0               214              214             10   \n",
      "4                       0                 2                2              0   \n",
      "5                       0                83               83              1   \n",
      "6                       0                93               93              1   \n",
      "7                       0                 5                5              0   \n",
      "8                       0                 4                1              0   \n",
      "9                       0                10                1              0   \n",
      "10                      0                 1                0              0   \n",
      "11                      0               296              291              0   \n",
      "12                      0                 1                0              0   \n",
      "13                      0                 4                2              0   \n",
      "14                      0                99               98              0   \n",
      "15                      0               107               89              0   \n",
      "16                      0                 5                5              0   \n",
      "17                      0                 1                1              0   \n",
      "18                      0               118              117              0   \n",
      "19                      0                 4                2              0   \n",
      "\n",
      "    total1And2Finishes  totalRaceLaps  totalPodiums  totalPodiumRaces  \\\n",
      "0                    0            108             0                 0   \n",
      "1                    0             98             0                 0   \n",
      "2                    0           2031             0                 0   \n",
      "3                    4          20608            26                18   \n",
      "4                    0            132             0                 0   \n",
      "5                    0           8865             2                 2   \n",
      "6                    0           9960             6                 5   \n",
      "7                    0            311             0                 0   \n",
      "8                    0             22             0                 0   \n",
      "9                    0             11             0                 0   \n",
      "10                   0              0             0                 0   \n",
      "11                   0          24515             8                 8   \n",
      "12                   0              0             0                 0   \n",
      "13                   0             19             0                 0   \n",
      "14                   0          10750             9                 9   \n",
      "15                   0           4375             0                 0   \n",
      "16                   0            250             0                 0   \n",
      "17                   0              5             0                 0   \n",
      "18                   0          11153            15                15   \n",
      "19                   0            117             0                 0   \n",
      "\n",
      "    totalPoints  totalChampionshipPoints  totalPolePositions  totalFastestLaps  \n",
      "0           0.0                      0.0                   0                 0  \n",
      "1           0.0                      0.0                   0                 0  \n",
      "2           2.0                      2.0                   0                 0  \n",
      "3         199.0                    199.0                  12                16  \n",
      "4           0.0                      0.0                   0                 0  \n",
      "5         309.0                    309.0                   0                 2  \n",
      "6         513.0                    513.0                   0                 1  \n",
      "7           0.0                      0.0                   0                 0  \n",
      "8           0.0                      0.0                   0                 0  \n",
      "9           0.0                      0.0                   0                 0  \n",
      "10          0.0                      0.0                   0                 0  \n",
      "11        142.0                    142.0                   1                 0  \n",
      "12          0.0                      0.0                   0                 0  \n",
      "13          0.0                      0.0                   0                 0  \n",
      "14        516.0                    516.0                   0                 3  \n",
      "15          7.0                      7.0                   0                 0  \n",
      "16          0.0                      0.0                   0                 0  \n",
      "17          0.0                      0.0                   0                 0  \n",
      "18        227.0                    227.0                   2                 0  \n",
      "19          0.0                      0.0                   0                 0  \n"
     ]
    }
   ],
   "execution_count": 27
  }
 ],
 "metadata": {
  "kernelspec": {
   "display_name": "F1 Capstone Env",
   "language": "python",
   "name": "f1_env"
  },
  "language_info": {
   "codemirror_mode": {
    "name": "ipython",
    "version": 3
   },
   "file_extension": ".py",
   "mimetype": "text/x-python",
   "name": "python",
   "nbconvert_exporter": "python",
   "pygments_lexer": "ipython3",
   "version": "3.12.4"
  }
 },
 "nbformat": 4,
 "nbformat_minor": 5
}
